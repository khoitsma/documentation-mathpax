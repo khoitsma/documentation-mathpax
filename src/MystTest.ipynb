{
 "cells": [
  {
   "cell_type": "code",
   "execution_count": 1,
   "id": "67cbb517-7a12-4cfc-a102-494e574e701c",
   "metadata": {},
   "outputs": [],
   "source": [
    "import numpy as np\n",
    "array = np.arange(4)"
   ]
  },
  {
   "cell_type": "code",
   "execution_count": 2,
   "id": "2bdd145a-80d8-4793-b1b6-d5f0897d7e3b",
   "metadata": {},
   "outputs": [
    {
     "data": {
      "text/plain": [
       "array([0, 1, 2, 3])"
      ]
     },
     "execution_count": 2,
     "metadata": {},
     "output_type": "execute_result"
    }
   ],
   "source": [
    "array"
   ]
  },
  {
   "cell_type": "markdown",
   "id": "a5d9ce0d-e6da-4d5a-a048-da32f4df79cb",
   "metadata": {},
   "source": [
    "Let's consider the following array: array([0, 1, 2, 3]).\n",
    "\n",
    "We can compute the total: 6 and the maximum value is 3."
   ]
  },
  {
   "cell_type": "markdown",
   "id": "14f5237d-3c67-4a55-a4c8-ff8789dd98d5",
   "metadata": {},
   "source": [
    "* [big bang](wiki:The_Big_Bang_Theory)\n",
    "* [](wiki:big_bang)"
   ]
  },
  {
   "cell_type": "markdown",
   "id": "20460b69-3a59-4ecd-8266-8f34c1675212",
   "metadata": {},
   "source": [
    "Primordial <wiki:gravitational_waves> are hypothesized to arise from <wiki:cosmic_inflation>, a faster-than-light expansion just after the <wiki:big_bang>."
   ]
  },
  {
   "cell_type": "code",
   "execution_count": null,
   "id": "a71f532d-db53-4234-ad76-f3ec23df001b",
   "metadata": {},
   "outputs": [],
   "source": []
  }
 ],
 "metadata": {
  "kernelspec": {
   "display_name": "Python 3",
   "language": "python",
   "name": "python3"
  },
  "language_info": {
   "codemirror_mode": {
    "name": "ipython",
    "version": 3
   },
   "file_extension": ".py",
   "mimetype": "text/x-python",
   "name": "python",
   "nbconvert_exporter": "python",
   "pygments_lexer": "ipython3",
   "version": "3.112.7"
  }
 },
 "nbformat": 4,
 "nbformat_minor": 5
}
